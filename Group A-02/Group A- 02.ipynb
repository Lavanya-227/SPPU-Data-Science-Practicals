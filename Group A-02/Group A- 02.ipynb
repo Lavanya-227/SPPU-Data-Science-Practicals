{
 "cells": [
  {
   "attachments": {},
   "cell_type": "markdown",
   "id": "a4fdd70a",
   "metadata": {},
   "source": [
    "GROUP A-02\n",
    "\n",
    "Create an “Academic performance” dataset of students and perform the following operations\n",
    "using Python.\n",
    "1. Scan all variables for missing values and inconsistencies. If there are missing values and/or\n",
    "inconsistencies, use any of the suitable techniques to deal with them.\n",
    "2. Scan all numeric variables for outliers. If there are outliers, use any of the suitable techniques\n",
    "to deal with them.\n",
    "3. Apply data transformations on at least one of the variables. The purpose of this\n",
    "transformation should be one of the following reasons: to change the scale for better\n",
    "understanding of the variable, to convert a non-linear relation into a linear one, or to decrease\n",
    "the skewness and convert the distribution into a normal distribution."
   ]
  },
  {
   "cell_type": "code",
   "execution_count": 13,
   "id": "eff6feb8",
   "metadata": {},
   "outputs": [],
   "source": [
    "#Import libraries\n",
    "import numpy as np\n",
    "import pandas as pd\n",
    "import matplotlib.pyplot as plt\n",
    "import seaborn as sns"
   ]
  },
  {
   "cell_type": "code",
   "execution_count": 14,
   "id": "7d855066",
   "metadata": {},
   "outputs": [
    {
     "data": {
      "text/html": [
       "<div>\n",
       "<style scoped>\n",
       "    .dataframe tbody tr th:only-of-type {\n",
       "        vertical-align: middle;\n",
       "    }\n",
       "\n",
       "    .dataframe tbody tr th {\n",
       "        vertical-align: top;\n",
       "    }\n",
       "\n",
       "    .dataframe thead th {\n",
       "        text-align: right;\n",
       "    }\n",
       "</style>\n",
       "<table border=\"1\" class=\"dataframe\">\n",
       "  <thead>\n",
       "    <tr style=\"text-align: right;\">\n",
       "      <th></th>\n",
       "      <th>Timestamp</th>\n",
       "      <th>Email Address</th>\n",
       "      <th>Name</th>\n",
       "      <th>Email</th>\n",
       "      <th>Roll no</th>\n",
       "      <th>PRN No.</th>\n",
       "      <th>Mobile No.</th>\n",
       "      <th>First year:   Sem 1</th>\n",
       "      <th>First year:   Sem 2</th>\n",
       "      <th>Second year:   Sem 1</th>\n",
       "      <th>Second year:   Sem 2</th>\n",
       "    </tr>\n",
       "  </thead>\n",
       "  <tbody>\n",
       "    <tr>\n",
       "      <th>0</th>\n",
       "      <td>1/17/2022 12:45:09</td>\n",
       "      <td>sejal.zambare19@pccoepune.org</td>\n",
       "      <td>Sejal Zambare</td>\n",
       "      <td>sejal.zambare19@gmail.com</td>\n",
       "      <td>TECOC359</td>\n",
       "      <td>72026841K</td>\n",
       "      <td>8208217782</td>\n",
       "      <td>8.40</td>\n",
       "      <td>8.60</td>\n",
       "      <td>9.80</td>\n",
       "      <td>9.90</td>\n",
       "    </tr>\n",
       "    <tr>\n",
       "      <th>1</th>\n",
       "      <td>1/17/2022 12:45:44</td>\n",
       "      <td>rushikesh.thorat19@pccoepune.org</td>\n",
       "      <td>Rushikesh Vilas Thorat</td>\n",
       "      <td>rushikesh.thorat19@pccoepune.org</td>\n",
       "      <td>TECOC347</td>\n",
       "      <td>72026776F</td>\n",
       "      <td>9021261925</td>\n",
       "      <td>8.14</td>\n",
       "      <td>8.14</td>\n",
       "      <td>9.32</td>\n",
       "      <td>9.82</td>\n",
       "    </tr>\n",
       "    <tr>\n",
       "      <th>2</th>\n",
       "      <td>1/17/2022 12:46:10</td>\n",
       "      <td>atharv.sontakke19@pccoepune.org</td>\n",
       "      <td>Atharv Sontakke</td>\n",
       "      <td>atharv123sontakke@gmail.com</td>\n",
       "      <td>TECOC340</td>\n",
       "      <td>72026742M</td>\n",
       "      <td>9009804629</td>\n",
       "      <td>6.61</td>\n",
       "      <td>6.61</td>\n",
       "      <td>9.14</td>\n",
       "      <td>9.14</td>\n",
       "    </tr>\n",
       "    <tr>\n",
       "      <th>3</th>\n",
       "      <td>1/17/2022 12:46:21</td>\n",
       "      <td>amisha.sherekar19@pccoepune.org</td>\n",
       "      <td>Amisha Sunil Sherekar</td>\n",
       "      <td>amisha.sherekar19@pccoepune.org</td>\n",
       "      <td>TECOC328</td>\n",
       "      <td>72026696D</td>\n",
       "      <td>8698227548</td>\n",
       "      <td>7.20</td>\n",
       "      <td>7.30</td>\n",
       "      <td>8.90</td>\n",
       "      <td>9.20</td>\n",
       "    </tr>\n",
       "    <tr>\n",
       "      <th>4</th>\n",
       "      <td>1/17/2022 12:46:31</td>\n",
       "      <td>saurabh.sawardekar19@pccoepune.org</td>\n",
       "      <td>Saurabh Raju Sawardekar</td>\n",
       "      <td>saurabh.sawardekar19@pccoepune.org</td>\n",
       "      <td>TECOC326</td>\n",
       "      <td>72026682D</td>\n",
       "      <td>7774072850</td>\n",
       "      <td>7.05</td>\n",
       "      <td>7.45</td>\n",
       "      <td>9.05</td>\n",
       "      <td>9.40</td>\n",
       "    </tr>\n",
       "  </tbody>\n",
       "</table>\n",
       "</div>"
      ],
      "text/plain": [
       "            Timestamp                       Email Address  \\\n",
       "0  1/17/2022 12:45:09       sejal.zambare19@pccoepune.org   \n",
       "1  1/17/2022 12:45:44    rushikesh.thorat19@pccoepune.org   \n",
       "2  1/17/2022 12:46:10     atharv.sontakke19@pccoepune.org   \n",
       "3  1/17/2022 12:46:21     amisha.sherekar19@pccoepune.org   \n",
       "4  1/17/2022 12:46:31  saurabh.sawardekar19@pccoepune.org   \n",
       "\n",
       "                      Name                               Email  Roll no   \\\n",
       "0            Sejal Zambare           sejal.zambare19@gmail.com  TECOC359   \n",
       "1   Rushikesh Vilas Thorat    rushikesh.thorat19@pccoepune.org  TECOC347   \n",
       "2          Atharv Sontakke         atharv123sontakke@gmail.com  TECOC340   \n",
       "3    Amisha Sunil Sherekar     amisha.sherekar19@pccoepune.org  TECOC328   \n",
       "4  Saurabh Raju Sawardekar  saurabh.sawardekar19@pccoepune.org  TECOC326   \n",
       "\n",
       "     PRN No.  Mobile No.  First year:   Sem 1  First year:   Sem 2  \\\n",
       "0  72026841K  8208217782                 8.40                 8.60   \n",
       "1  72026776F  9021261925                 8.14                 8.14   \n",
       "2  72026742M  9009804629                 6.61                 6.61   \n",
       "3  72026696D  8698227548                 7.20                 7.30   \n",
       "4  72026682D  7774072850                 7.05                 7.45   \n",
       "\n",
       "   Second year:   Sem 1  Second year:   Sem 2  \n",
       "0                  9.80                  9.90  \n",
       "1                  9.32                  9.82  \n",
       "2                  9.14                  9.14  \n",
       "3                  8.90                  9.20  \n",
       "4                  9.05                  9.40  "
      ]
     },
     "execution_count": 14,
     "metadata": {},
     "output_type": "execute_result"
    }
   ],
   "source": [
    "#Import files\n",
    "df = pd.read_csv('academics.csv')\n",
    "df.head()"
   ]
  },
  {
   "cell_type": "code",
   "execution_count": 15,
   "id": "e0caffdc",
   "metadata": {},
   "outputs": [
    {
     "data": {
      "text/plain": [
       "Index(['Timestamp', 'Email Address', 'Name', 'Email', 'Roll no ', 'PRN No.',\n",
       "       'Mobile No.', 'First year:   Sem 1', 'First year:   Sem 2',\n",
       "       'Second year:   Sem 1', 'Second year:   Sem 2'],\n",
       "      dtype='object')"
      ]
     },
     "execution_count": 15,
     "metadata": {},
     "output_type": "execute_result"
    }
   ],
   "source": [
    "#Check column names\n",
    "df.columns"
   ]
  },
  {
   "cell_type": "code",
   "execution_count": 16,
   "id": "0bffd368",
   "metadata": {},
   "outputs": [
    {
     "data": {
      "text/plain": [
       "Timestamp               0\n",
       "Email Address           0\n",
       "Name                    0\n",
       "Email                   0\n",
       "Roll no                 0\n",
       "PRN No.                 0\n",
       "Mobile No.              0\n",
       "First year:   Sem 1     0\n",
       "First year:   Sem 2     0\n",
       "Second year:   Sem 1    0\n",
       "Second year:   Sem 2    0\n",
       "dtype: int64"
      ]
     },
     "execution_count": 16,
     "metadata": {},
     "output_type": "execute_result"
    }
   ],
   "source": [
    "#Check for null values\n",
    "df.isnull().sum()"
   ]
  },
  {
   "cell_type": "code",
   "execution_count": 19,
   "id": "31803775",
   "metadata": {},
   "outputs": [
    {
     "data": {
      "image/png": "[encoded data removed]",
      "text/plain": [
       "<Figure size 1000x600 with 1 Axes>"
      ]
     },
     "metadata": {},
     "output_type": "display_data"
    }
   ],
   "source": [
    "#Outliers\n",
    "plt.figure(figsize = (10,6))\n",
    "df[['First year:   Sem 1', 'First year:   Sem 2',\n",
    "       'Second year:   Sem 1', 'Second year:   Sem 2']].boxplot()\n",
    "plt.title('Outliers')\n",
    "plt.show()\n"
   ]
  },
  {
   "cell_type": "code",
   "execution_count": null,
   "id": "e16237ae",
   "metadata": {},
   "outputs": [],
   "source": []
  }
 ],
 "metadata": {
  "kernelspec": {
   "display_name": "Python 3 (ipykernel)",
   "language": "python",
   "name": "python3"
  },
  "language_info": {
   "codemirror_mode": {
    "name": "ipython",
    "version": 3
   },
   "file_extension": ".py",
   "mimetype": "text/x-python",
   "name": "python",
   "nbconvert_exporter": "python",
   "pygments_lexer": "ipython3",
   "version": "3.11.5"
  }
 },
 "nbformat": 4,
 "nbformat_minor": 5
}
